{
 "cells": [
  {
   "cell_type": "code",
   "execution_count": 1,
   "id": "31f80122-4d86-4df0-8668-f0fcdf36a0e4",
   "metadata": {},
   "outputs": [
    {
     "name": "stdout",
     "output_type": "stream",
     "text": [
      "error performing file operation\n"
     ]
    }
   ],
   "source": [
    "import re\n",
    "\n",
    "# remove any non-words and split lines into separate words\n",
    "# finally, convert all words to lowercase\n",
    "def splitter(line):\n",
    "    line = re.sub(r'^\\W+|\\W+$', '', line)\n",
    "    return map(str.lower, re.split(r'\\W+', line))\n",
    "    \n",
    "sums = {}\n",
    "try:\n",
    "    in_file = open('prueba.txt', 'r')\n",
    "\n",
    "    for line in in_file:\n",
    "        for word in splitter(line):\n",
    "            word = word.lower()\n",
    "            sums[word] = sums.get(word, 0) + 1\n",
    "                 \n",
    "    in_file.close()\n",
    "\n",
    "except IOError:\n",
    "    print(\"error performing file operation\")\n",
    "else:\n",
    "    M = max(sums.keys(), key=lambda k: sums[k])\n",
    "    print(\"max: %s = %d\" % (M, sums[M]))"
   ]
  },
  {
   "cell_type": "code",
   "execution_count": null,
   "id": "40b0a2ae-1aff-40c4-94a9-c29b2a59afae",
   "metadata": {},
   "outputs": [],
   "source": []
  }
 ],
 "metadata": {
  "kernelspec": {
   "display_name": "Python 3 (ipykernel)",
   "language": "python",
   "name": "python3"
  },
  "language_info": {
   "codemirror_mode": {
    "name": "ipython",
    "version": 3
   },
   "file_extension": ".py",
   "mimetype": "text/x-python",
   "name": "python",
   "nbconvert_exporter": "python",
   "pygments_lexer": "ipython3",
   "version": "3.9.4"
  }
 },
 "nbformat": 4,
 "nbformat_minor": 5
}
